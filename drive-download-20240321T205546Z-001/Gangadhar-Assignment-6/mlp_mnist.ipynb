{
 "cells": [
  {
   "cell_type": "code",
   "execution_count": null,
   "metadata": {
    "colab": {
     "base_uri": "https://localhost:8080/"
    },
    "id": "0uu4__ihFEZT",
    "outputId": "0a769e15-d661-4a73-ec7e-a087c681301a"
   },
   "outputs": [
    {
     "name": "stdout",
     "output_type": "stream",
     "text": [
      "2.4.0\n",
      "Model: \"sequential_3\"\n",
      "_________________________________________________________________\n",
      "Layer (type)                 Output Shape              Param #   \n",
      "=================================================================\n",
      "dense_8 (Dense)              (None, 1)                 785       \n",
      "_________________________________________________________________\n",
      "activation_1 (Activation)    (None, 1)                 0         \n",
      "=================================================================\n",
      "Total params: 785\n",
      "Trainable params: 785\n",
      "Non-trainable params: 0\n",
      "_________________________________________________________________\n",
      "Epoch 1/5\n",
      "792/792 [==============================] - 2s 2ms/step - loss: 0.0786 - binary_accuracy: 0.9897\n",
      "Epoch 2/5\n",
      "792/792 [==============================] - 2s 2ms/step - loss: 0.0207 - binary_accuracy: 0.9976\n",
      "Epoch 3/5\n",
      "792/792 [==============================] - 2s 2ms/step - loss: 0.0150 - binary_accuracy: 0.9976\n",
      "Epoch 4/5\n",
      "792/792 [==============================] - 2s 2ms/step - loss: 0.0124 - binary_accuracy: 0.9977\n",
      "Epoch 5/5\n",
      "792/792 [==============================] - 2s 2ms/step - loss: 0.0108 - binary_accuracy: 0.9979\n",
      "67/67 [==============================] - 0s 2ms/step - loss: 0.0066 - binary_accuracy: 0.9995\n"
     ]
    }
   ],
   "source": [
    "import numpy as np\n",
    "from tensorflow import keras\n",
    "print (keras.__version__)\n",
    "from keras.datasets import mnist\n",
    "(x_train, y_train), (x_test, y_test) = mnist.load_data()\n",
    "x_train_new, y_train_new = x_train[(y_train==0) | (y_train==1)], y_train[(y_train==0) | (y_train==1)]\n",
    "x_train_final = x_train_new.reshape((-1, 784))\n",
    "x_test_new, y_test_new = x_test[(y_test==0) | (y_test==1)], y_test[(y_test==0) | (y_test==1)]\n",
    "x_test_final = x_test_new.reshape((-1, 784))\n",
    "x_train_final = x_train_final / 255\n",
    "x_test_final = x_test_final / 255\n",
    "\n",
    "\n",
    "from tensorflow.keras.models import Sequential\n",
    "from tensorflow.keras.layers import Dense, Activation, Dropout\n",
    "from tensorflow.keras.utils import to_categorical, plot_model\n",
    "from tensorflow.keras.datasets import mnist\n",
    "\n",
    "from tensorflow import keras\n",
    "\n",
    "\n",
    "\n",
    "\n",
    "model = Sequential()\n",
    "\n",
    "model.add(Dense(1, input_shape=(784,)))\n",
    "model.add( Activation('sigmoid'))\n",
    "# this is the output for one-hot vector\n",
    "#model.add(Activation('softmax'))\n",
    "model.summary()\n",
    "plot_model(model, to_file='mlp-mnist.png', show_shapes=True)\n",
    "\n",
    "\n",
    "\n",
    "model.compile(optimizer='sgd', loss='binary_crossentropy', metrics=['binary_accuracy'])\n",
    "model.fit(\n",
    "  x=x_train_final,\n",
    "  y=y_train_new,\n",
    "  shuffle=True,\n",
    "  epochs=5,\n",
    "  batch_size=16\n",
    ")\n",
    "eval = model.evaluate(x=x_test_final, y=y_test_new)"
   ]
  },
  {
   "cell_type": "code",
   "execution_count": null,
   "metadata": {
    "colab": {
     "base_uri": "https://localhost:8080/",
     "height": 312
    },
    "id": "PGF5SMQJb7Jf",
    "outputId": "b8f7af1e-80fd-4487-dc9d-0e10cc748225"
   },
   "outputs": [
    {
     "data": {
      "image/png": "[encoded data removed]",
      "text/plain": [
       "<IPython.core.display.Image object>"
      ]
     },
     "execution_count": 33,
     "metadata": {
      "tags": []
     },
     "output_type": "execute_result"
    }
   ],
   "source": [
    "plot_model(model, to_file='mlp-mnist.png', show_shapes=True)"
   ]
  },
  {
   "cell_type": "code",
   "execution_count": null,
   "metadata": {
    "id": "2RlxnYlnByQN"
   },
   "outputs": [],
   "source": [
    "import numpy as np\n",
    "from tensorflow.keras.datasets import mnist\n",
    "import matplotlib.pyplot as plt\n"
   ]
  },
  {
   "cell_type": "code",
   "execution_count": null,
   "metadata": {
    "id": "Si0SLR_jDU3I"
   },
   "outputs": [],
   "source": []
  },
  {
   "cell_type": "code",
   "execution_count": null,
   "metadata": {
    "id": "eDndcV5_B5DA"
   },
   "outputs": [],
   "source": [
    "# load dataset\n",
    "(x_train, y_train), (x_test, y_test) = mnist.load_data()"
   ]
  },
  {
   "cell_type": "code",
   "execution_count": null,
   "metadata": {
    "colab": {
     "base_uri": "https://localhost:8080/"
    },
    "id": "n3Y-7arSB_bl",
    "outputId": "51334c87-55d2-4517-e1ec-5e3863788ef9"
   },
   "outputs": [
    {
     "name": "stdout",
     "output_type": "stream",
     "text": [
      "Train labels:  {0: 5923, 1: 6742, 2: 5958, 3: 6131, 4: 5842, 5: 5421, 6: 5918, 7: 6265, 8: 5851, 9: 5949}\n"
     ]
    }
   ],
   "source": [
    "# count the number of unique train labels\n",
    "unique, counts = np.unique(y_train, return_counts=True)\n",
    "print(\"Train labels: \", dict(zip(unique, counts)))"
   ]
  },
  {
   "cell_type": "code",
   "execution_count": null,
   "metadata": {
    "colab": {
     "base_uri": "https://localhost:8080/"
    },
    "id": "astA9C0xB_sN",
    "outputId": "f101e67f-ddd0-4fb9-fa5f-8fcef448a0e0"
   },
   "outputs": [
    {
     "name": "stdout",
     "output_type": "stream",
     "text": [
      "Test labels:  {0: 980, 1: 1135, 2: 1032, 3: 1010, 4: 982, 5: 892, 6: 958, 7: 1028, 8: 974, 9: 1009}\n"
     ]
    }
   ],
   "source": [
    "# count the number of unique test labels\n",
    "unique, counts = np.unique(y_test, return_counts=True)\n",
    "print(\"Test labels: \", dict(zip(unique, counts)))\n"
   ]
  },
  {
   "cell_type": "code",
   "execution_count": null,
   "metadata": {
    "id": "YiQuEI2pB_wG"
   },
   "outputs": [],
   "source": [
    "# sample 25 mnist digits from train dataset\n",
    "indexes = np.random.randint(0, x_train.shape[0], size=25)\n",
    "images = x_train[indexes]\n",
    "labels = y_train[indexes]\n"
   ]
  },
  {
   "cell_type": "code",
   "execution_count": null,
   "metadata": {
    "colab": {
     "base_uri": "https://localhost:8080/",
     "height": 303
    },
    "id": "zQlT3LqwB_zS",
    "outputId": "aebb1a68-7ed1-4ec2-edbd-fc1af1b95485"
   },
   "outputs": [
    {
     "data": {
      "image/png": "[encoded data removed]",
      "text/plain": [
       "<Figure size 360x360 with 25 Axes>"
      ]
     },
     "metadata": {
      "tags": []
     },
     "output_type": "display_data"
    }
   ],
   "source": [
    "# plot the 25 mnist digits\n",
    "plt.figure(figsize=(5,5))\n",
    "for i in range(len(indexes)):\n",
    "    plt.subplot(5, 5, i + 1)\n",
    "    image = images[i]\n",
    "    plt.imshow(image, cmap='gray')\n",
    "    plt.axis('off')"
   ]
  },
  {
   "cell_type": "code",
   "execution_count": null,
   "metadata": {
    "colab": {
     "base_uri": "https://localhost:8080/",
     "height": 34
    },
    "id": "mwhopPBsB_2c",
    "outputId": "47c789f7-fabd-4ca3-9ba2-9a97916e3ffe"
   },
   "outputs": [
    {
     "data": {
      "text/plain": [
       "<Figure size 432x288 with 0 Axes>"
      ]
     },
     "metadata": {
      "tags": []
     },
     "output_type": "display_data"
    }
   ],
   "source": [
    "plt.savefig(\"mnist-samples.png\")\n",
    "plt.show()\n",
    "plt.close('all')"
   ]
  },
  {
   "cell_type": "code",
   "execution_count": null,
   "metadata": {
    "colab": {
     "base_uri": "https://localhost:8080/"
    },
    "id": "WztR9JOOC-36",
    "outputId": "4b5069eb-654e-41d2-b810-627ae61f333c"
   },
   "outputs": [
    {
     "name": "stdout",
     "output_type": "stream",
     "text": [
      "{train_filter}\n"
     ]
    }
   ],
   "source": [
    "# load mnist dataset\n",
    "(x_train, y_train), (x_test, y_test) = mnist.load_data()\n",
    "\n",
    "\n",
    "#print(f'{x_train}')\n",
    "\n",
    "X_train = x_train\n",
    "Y_train = y_train\n",
    "X_test = x_test\n",
    "Y_test = y_test\n",
    "\n",
    "\n",
    "\n",
    "\n",
    "import numpy as np\n",
    "\n",
    "train_filter = np.where((y_train == 0 ) | (y_train == 4))\n",
    "test_filter = np.where((y_test == 0) | (y_test == 4))\n",
    "x_train, y_train = x_train[train_filter], y_train[train_filter]\n",
    "x_test, y_test = x_test[test_filter], y_test[test_filter]\n",
    "\n",
    "#print(f'{x_train[0]}')\n",
    "\n",
    "print('{train_filter}')"
   ]
  },
  {
   "cell_type": "code",
   "execution_count": null,
   "metadata": {
    "id": "GqJ7FUtNC-7Q"
   },
   "outputs": [],
   "source": []
  },
  {
   "cell_type": "code",
   "execution_count": null,
   "metadata": {
    "id": "eFVj-7WnC--d"
   },
   "outputs": [],
   "source": []
  },
  {
   "cell_type": "code",
   "execution_count": null,
   "metadata": {
    "colab": {
     "base_uri": "https://localhost:8080/",
     "height": 303
    },
    "id": "hTOvN5NcB_6u",
    "outputId": "f9b4552a-6cf1-44f7-a215-c127ecbddd34"
   },
   "outputs": [
    {
     "data": {
      "image/png": "[encoded data removed]",
      "text/plain": [
       "<Figure size 360x360 with 25 Axes>"
      ]
     },
     "metadata": {
      "tags": []
     },
     "output_type": "display_data"
    }
   ],
   "source": [
    "# sample 25 mnist digits from train dataset\n",
    "indexes = np.random.randint(0, x_train.shape[0], size=25)\n",
    "images = x_train[indexes]\n",
    "labels = y_train[indexes]\n",
    "\n",
    "\n",
    "# plot the 25 mnist digits\n",
    "plt.figure(figsize=(5,5))\n",
    "for i in range(len(indexes)):\n",
    "    plt.subplot(5, 5, i + 1)\n",
    "    image = images[i]\n",
    "    plt.imshow(image, cmap='gray')\n",
    "    plt.axis('off')"
   ]
  },
  {
   "cell_type": "markdown",
   "metadata": {
    "id": "V9rbQEAu8RiW"
   },
   "source": [
    "# minst mlp processing\n",
    "\n",
    "---\n",
    "\n"
   ]
  },
  {
   "cell_type": "code",
   "execution_count": null,
   "metadata": {
    "colab": {
     "base_uri": "https://localhost:8080/",
     "height": 864
    },
    "id": "Te9HAQ0wDWoV",
    "outputId": "43db7a6e-456f-40c3-f044-715acde1af46"
   },
   "outputs": [
    {
     "name": "stdout",
     "output_type": "stream",
     "text": [
      "2.4.0\n",
      "Model: \"sequential_4\"\n",
      "_________________________________________________________________\n",
      "Layer (type)                 Output Shape              Param #   \n",
      "=================================================================\n",
      "dense_9 (Dense)              (None, 12)                9420      \n",
      "_________________________________________________________________\n",
      "dense_10 (Dense)             (None, 8)                 104       \n",
      "_________________________________________________________________\n",
      "dense_11 (Dense)             (None, 1)                 9         \n",
      "=================================================================\n",
      "Total params: 9,533\n",
      "Trainable params: 9,533\n",
      "Non-trainable params: 0\n",
      "_________________________________________________________________\n",
      "Epoch 1/5\n",
      "792/792 [==============================] - 2s 2ms/step - loss: 0.1036 - binary_accuracy: 0.9840\n",
      "Epoch 2/5\n",
      "792/792 [==============================] - 2s 2ms/step - loss: 0.0096 - binary_accuracy: 0.9979\n",
      "Epoch 3/5\n",
      "792/792 [==============================] - 2s 2ms/step - loss: 0.0065 - binary_accuracy: 0.9984\n",
      "Epoch 4/5\n",
      "792/792 [==============================] - 2s 2ms/step - loss: 0.0053 - binary_accuracy: 0.9987\n",
      "Epoch 5/5\n",
      "792/792 [==============================] - 2s 2ms/step - loss: 0.0046 - binary_accuracy: 0.9986\n",
      "67/67 [==============================] - 0s 2ms/step - loss: 0.0023 - binary_accuracy: 0.9995\n"
     ]
    },
    {
     "data": {
      "image/png": "[encoded data removed]",
      "text/plain": [
       "<IPython.core.display.Image object>"
      ]
     },
     "execution_count": 43,
     "metadata": {
      "tags": []
     },
     "output_type": "execute_result"
    }
   ],
   "source": [
    "import numpy as np\n",
    "from tensorflow import keras\n",
    "print (keras.__version__)\n",
    "from keras.datasets import mnist\n",
    "(x_train, y_train), (x_test, y_test) = mnist.load_data()\n",
    "x_train_new, y_train_new = x_train[(y_train==0) | (y_train==1)], y_train[(y_train==0) | (y_train==1)]\n",
    "x_train_final = x_train_new.reshape((-1, 784))\n",
    "x_test_new, y_test_new = x_test[(y_test==0) | (y_test==1)], y_test[(y_test==0) | (y_test==1)]\n",
    "x_test_final = x_test_new.reshape((-1, 784))\n",
    "x_train_final = x_train_final / 255\n",
    "x_test_final = x_test_final / 255\n",
    "\n",
    "\n",
    "from tensorflow.keras.models import Sequential\n",
    "from tensorflow.keras.layers import Dense, Activation, Dropout\n",
    "from tensorflow.keras.utils import to_categorical, plot_model\n",
    "from tensorflow.keras.datasets import mnist\n",
    "\n",
    "from tensorflow import keras\n",
    "\n",
    "\n",
    "model = Sequential()\n",
    "model.add(Dense(12, input_shape=(784,), activation='relu'))\n",
    "model.add(Dense(8, activation='relu'))\n",
    "model.add(Dense(1, activation='sigmoid'))\n",
    "\n",
    "\n",
    "\n",
    "model.summary()\n",
    "plot_model(model, to_file='mlp-mnist.png', show_shapes=True)\n",
    "\n",
    "\n",
    "\n",
    "model.compile(optimizer='sgd', loss='binary_crossentropy', metrics=['binary_accuracy'])\n",
    "model.fit(\n",
    "  x=x_train_final,\n",
    "  y=y_train_new,\n",
    "  shuffle=True,\n",
    "  epochs=5,\n",
    "  batch_size=16\n",
    ")\n",
    "eval = model.evaluate(x=x_test_final, y=y_test_new)\n",
    "plot_model(model, to_file='mlp-mnist.png', show_shapes=True)"
   ]
  },
  {
   "cell_type": "code",
   "execution_count": null,
   "metadata": {
    "colab": {
     "base_uri": "https://localhost:8080/"
    },
    "id": "4srLq7GvDW9Q",
    "outputId": "f00b8543-b179-40a9-f10a-4946f03fed19"
   },
   "outputs": [
    {
     "name": "stdout",
     "output_type": "stream",
     "text": [
      "\n",
      "Test accuracy: 100.0%\n"
     ]
    }
   ],
   "source": [
    "\n",
    "# validate the model on test dataset to determine generalization\n",
    "_, acc = model.evaluate(x_test_final,\n",
    "                        y_test_new,\n",
    "                        batch_size=128,\n",
    "                        verbose=0)\n",
    "print(\"\\nTest accuracy: %.1f%%\" % (100.0 * acc))"
   ]
  },
  {
   "cell_type": "code",
   "execution_count": null,
   "metadata": {
    "id": "i4ZoHQLtdBFr"
   },
   "outputs": [],
   "source": []
  },
  {
   "cell_type": "code",
   "execution_count": null,
   "metadata": {
    "colab": {
     "base_uri": "https://localhost:8080/",
     "height": 1000
    },
    "id": "4u6V73JPDXA9",
    "outputId": "01ab7037-b7b1-4f51-b407-586bffc9a1c6"
   },
   "outputs": [
    {
     "name": "stdout",
     "output_type": "stream",
     "text": [
      "2.4.0\n",
      "Model: \"sequential_5\"\n",
      "_________________________________________________________________\n",
      "Layer (type)                 Output Shape              Param #   \n",
      "=================================================================\n",
      "dense_12 (Dense)             (None, 12)                9420      \n",
      "_________________________________________________________________\n",
      "dense_13 (Dense)             (None, 8)                 104       \n",
      "_________________________________________________________________\n",
      "dense_14 (Dense)             (None, 4)                 36        \n",
      "_________________________________________________________________\n",
      "dense_15 (Dense)             (None, 1)                 5         \n",
      "=================================================================\n",
      "Total params: 9,565\n",
      "Trainable params: 9,565\n",
      "Non-trainable params: 0\n",
      "_________________________________________________________________\n",
      "Epoch 1/5\n",
      "792/792 [==============================] - 2s 2ms/step - loss: 0.1052 - binary_accuracy: 0.9853\n",
      "Epoch 2/5\n",
      "792/792 [==============================] - 2s 2ms/step - loss: 0.0081 - binary_accuracy: 0.9979\n",
      "Epoch 3/5\n",
      "792/792 [==============================] - 2s 2ms/step - loss: 0.0053 - binary_accuracy: 0.9985\n",
      "Epoch 4/5\n",
      "792/792 [==============================] - 2s 2ms/step - loss: 0.0042 - binary_accuracy: 0.9989\n",
      "Epoch 5/5\n",
      "792/792 [==============================] - 2s 2ms/step - loss: 0.0036 - binary_accuracy: 0.9991\n",
      "67/67 [==============================] - 0s 2ms/step - loss: 0.0020 - binary_accuracy: 0.9995\n"
     ]
    },
    {
     "data": {
      "image/png": "[encoded data removed]",
      "text/plain": [
       "<IPython.core.display.Image object>"
      ]
     },
     "execution_count": 45,
     "metadata": {
      "tags": []
     },
     "output_type": "execute_result"
    }
   ],
   "source": [
    "import numpy as np\n",
    "from tensorflow import keras\n",
    "print (keras.__version__)\n",
    "from keras.datasets import mnist\n",
    "(x_train, y_train), (x_test, y_test) = mnist.load_data()\n",
    "x_train_new, y_train_new = x_train[(y_train==0) | (y_train==1)], y_train[(y_train==0) | (y_train==1)]\n",
    "x_train_final = x_train_new.reshape((-1, 784))\n",
    "x_test_new, y_test_new = x_test[(y_test==0) | (y_test==1)], y_test[(y_test==0) | (y_test==1)]\n",
    "x_test_final = x_test_new.reshape((-1, 784))\n",
    "x_train_final = x_train_final / 255\n",
    "x_test_final = x_test_final / 255\n",
    "\n",
    "\n",
    "from tensorflow.keras.models import Sequential\n",
    "from tensorflow.keras.layers import Dense, Activation, Dropout\n",
    "from tensorflow.keras.utils import to_categorical, plot_model\n",
    "from tensorflow.keras.datasets import mnist\n",
    "\n",
    "from tensorflow import keras\n",
    "\n",
    "\n",
    "model = Sequential()\n",
    "model.add(Dense(12, input_shape=(784,), activation='relu'))\n",
    "model.add(Dense(8, activation='relu'))\n",
    "model.add(Dense(4, activation='relu'))\n",
    "model.add(Dense(1, activation='sigmoid'))\n",
    "\n",
    "\n",
    "\n",
    "model.summary()\n",
    "plot_model(model, to_file='mlp-mnist.png', show_shapes=True)\n",
    "\n",
    "\n",
    "\n",
    "\n",
    "model.compile(optimizer='sgd', loss='binary_crossentropy', metrics=['binary_accuracy'])\n",
    "model.fit(\n",
    "  x=x_train_final,\n",
    "  y=y_train_new,\n",
    "  shuffle=True,\n",
    "  epochs=5,\n",
    "  batch_size=16\n",
    ")\n",
    "eval = model.evaluate(x=x_test_final, y=y_test_new)\n",
    "plot_model(model, to_file='mlp-mnist.png', show_shapes=True)"
   ]
  },
  {
   "cell_type": "markdown",
   "metadata": {
    "id": "xSuAGKCpDGsv"
   },
   "source": []
  },
  {
   "cell_type": "code",
   "execution_count": null,
   "metadata": {
    "colab": {
     "base_uri": "https://localhost:8080/"
    },
    "id": "AxNUx6WyDXD3",
    "outputId": "7518d43e-2a6b-43af-b553-12bf1d1ea149"
   },
   "outputs": [
    {
     "name": "stdout",
     "output_type": "stream",
     "text": [
      "\n",
      "Test accuracy: 100.0%\n"
     ]
    }
   ],
   "source": [
    "\n",
    "# validate the model on test dataset to determine generalization\n",
    "_, acc = model.evaluate(x_test_final,\n",
    "                        y_test_new,\n",
    "                        batch_size=128,\n",
    "                        verbose=0)\n",
    "print(\"\\nTest accuracy: %.1f%%\" % (100.0 * acc))"
   ]
  },
  {
   "cell_type": "code",
   "execution_count": null,
   "metadata": {
    "id": "wP_l6W-8DXHI"
   },
   "outputs": [],
   "source": [
    "\n"
   ]
  },
  {
   "cell_type": "code",
   "execution_count": null,
   "metadata": {
    "id": "CXVWoPGVx47O"
   },
   "outputs": [],
   "source": []
  },
  {
   "cell_type": "markdown",
   "metadata": {
    "id": "iwpJft4zxqPi"
   },
   "source": []
  },
  {
   "cell_type": "markdown",
   "metadata": {
    "id": "RoULK-s4xs-I"
   },
   "source": [
    "\n",
    "1. Task 1: Here you need to use MLP for classification.\n",
    "(a) Use the pair of classes, of MNIST data used by you in assignment 5, with around 6000 training patterns per class. So, you will have 12000 training patterns totally. Train an MLP each with 1, 2, 3 and 4 hidden layers using Backpropa- gation.\n",
    "(b) Take 2000 test patterns (1000 per class) and classify using the networks trained in (a). Compute the classification accuracy on the test patterns.\n",
    "(c) Pick the best MLP based on (a) and (b) and vary the following:\n",
    "i. Number of nodes in the hidden layers.\n",
    "ii. Tanh, Relu, and Logistic activation functions\n",
    "iii. Hyperparameters: Momentum term, Early stopping, and Learning Rate\n",
    "(d) Report the classification accuracies obtained and analyse."
   ]
  },
  {
   "cell_type": "code",
   "execution_count": null,
   "metadata": {
    "id": "dNSReEfdMwkT"
   },
   "outputs": [],
   "source": []
  },
  {
   "cell_type": "code",
   "execution_count": null,
   "metadata": {
    "colab": {
     "base_uri": "https://localhost:8080/"
    },
    "id": "NsiwaczajHjz",
    "outputId": "67e03900-033a-4533-92a2-ccc8de45f901"
   },
   "outputs": [
    {
     "name": "stdout",
     "output_type": "stream",
     "text": [
      "Best: 0.998816 using {'batch_size': 10, 'nb_epoch': 10}\n",
      "0.998026 (0.000487) with: {'batch_size': 5, 'nb_epoch': 10}\n",
      "0.997552 (0.000487) with: {'batch_size': 5, 'nb_epoch': 20}\n",
      "0.998737 (0.000805) with: {'batch_size': 5, 'nb_epoch': 50}\n",
      "0.998816 (0.000670) with: {'batch_size': 10, 'nb_epoch': 10}\n",
      "0.997947 (0.001116) with: {'batch_size': 10, 'nb_epoch': 20}\n",
      "0.998421 (0.000487) with: {'batch_size': 10, 'nb_epoch': 50}\n"
     ]
    }
   ],
   "source": [
    "import numpy\n",
    "from sklearn.model_selection import GridSearchCV\n",
    "from keras.models import Sequential\n",
    "from keras.layers import Dense\n",
    "from keras.wrappers.scikit_learn import KerasClassifier\n",
    "# Function to create model, required for KerasClassifier\n",
    "def create_model():\n",
    "\n",
    "  model = Sequential()\n",
    "  model.add(Dense(12, input_shape=(784,), activation='relu')) \n",
    "  model.add(Dense(8, activation='relu'))\n",
    "  model.add(Dense(4, activation='relu'))\n",
    "  model.add(Dense(1, activation='sigmoid'))\n",
    "  model.compile(loss='binary_crossentropy', optimizer='adam', metrics=['accuracy'])\n",
    "  return model\n",
    "\n",
    "model = KerasClassifier(build_fn=create_model, verbose=0)\n",
    "# define the grid search parameters\n",
    "batch_size = [10,20]\n",
    "epochs = [10, 50]\n",
    "#optimizer = ['SGD', 'RMSprop', 'Adagrad', 'Adadelta', 'Adam', 'Adamax', 'Nadam']\n",
    "learn_rate = [0.001, 0.01, 0.1, 0.2, 0.3]\n",
    "momentum = [0.0, 0.2, 0.4, 0.6, 0.8, 0.9]\n",
    "\n",
    "\n",
    "param_grid = dict(batch_size=batch_size, epochs=epochs)\n",
    "#grid = GridSearchCV(estimator=model, param_grid=param_grid, n_jobs=-1, cv=3)\n",
    "#param_grid = dict(optimizer=optimizer)\n",
    "\n",
    "\n",
    "\n",
    "from sklearn.model_selection import RandomizedSearchCV\n",
    "parameters ={'batch_size':[5,10],\n",
    "            'nb_epoch':[10,20,50],\n",
    "            #'optimizer':['adam','rmsprop','SGD'],\n",
    "            #'kernel_initializer':['random_uniform'],\n",
    "            #'units':[4,8,13]\n",
    "             }\n",
    "#random_search= RandomizedSearchCV(estimator=model, param_distributions=parameters,n_iter=20,n_jobs=-1,cv=5)\n",
    "\n",
    "grid = GridSearchCV(estimator=model, param_grid=parameters, n_jobs=-1, cv=3)\n",
    "X = x_train_final\n",
    "Y=y_train_new\n",
    "grid_result = grid.fit(X, Y)\n",
    "# summarize results\n",
    "print(\"Best: %f using %s\" % (grid_result.best_score_, grid_result.best_params_))\n",
    "means = grid_result.cv_results_['mean_test_score']\n",
    "stds = grid_result.cv_results_['std_test_score']\n",
    "params = grid_result.cv_results_['params']\n",
    "for mean, stdev, param in zip(means, stds, params):\n",
    "    print(\"%f (%f) with: %r\" % (mean, stdev, param))"
   ]
  },
  {
   "cell_type": "code",
   "execution_count": null,
   "metadata": {
    "colab": {
     "base_uri": "https://localhost:8080/"
    },
    "id": "me-h_xw0jH0c",
    "outputId": "09c83a1c-d885-4d4c-cebd-7d267953d59e"
   },
   "outputs": [
    {
     "name": "stderr",
     "output_type": "stream",
     "text": [
      "/usr/local/lib/python3.6/dist-packages/sklearn/model_selection/_search.py:281: UserWarning: The total space of parameters 1 is smaller than n_iter=3. Running 1 iterations. For exhaustive searches, use GridSearchCV.\n",
      "  % (grid_size, self.n_iter, grid_size), UserWarning)\n"
     ]
    },
    {
     "name": "stdout",
     "output_type": "stream",
     "text": [
      "Best score obtained: -0.20594636561788607\n",
      "Parameters:\n"
     ]
    }
   ],
   "source": [
    "# i. Number of nodes in the hidden layers.\n",
    "\n"
   ]
  },
  {
   "cell_type": "code",
   "execution_count": null,
   "metadata": {
    "id": "2F6TtZI0CXDT"
   },
   "outputs": [],
   "source": []
  },
  {
   "cell_type": "code",
   "execution_count": null,
   "metadata": {
    "colab": {
     "base_uri": "https://localhost:8080/"
    },
    "id": "ysUu7vrIMwns",
    "outputId": "be4d736a-07da-4c47-fc2e-b994a221b730"
   },
   "outputs": [
    {
     "name": "stdout",
     "output_type": "stream",
     "text": [
      "2.4.0\n",
      " Processing - Node changes 12\n",
      "Model: \"sequential_1\"\n",
      "_________________________________________________________________\n",
      "Layer (type)                 Output Shape              Param #   \n",
      "=================================================================\n",
      "dense_4 (Dense)              (None, 12)                9420      \n",
      "_________________________________________________________________\n",
      "dense_5 (Dense)              (None, 8)                 104       \n",
      "_________________________________________________________________\n",
      "dense_6 (Dense)              (None, 4)                 36        \n",
      "_________________________________________________________________\n",
      "dense_7 (Dense)              (None, 1)                 5         \n",
      "=================================================================\n",
      "Total params: 9,565\n",
      "Trainable params: 9,565\n",
      "Non-trainable params: 0\n",
      "_________________________________________________________________\n",
      "Epoch 1/5\n",
      "792/792 [==============================] - 2s 2ms/step - loss: 0.1548 - binary_accuracy: 0.9641\n",
      "Epoch 2/5\n",
      "792/792 [==============================] - 2s 2ms/step - loss: 0.0086 - binary_accuracy: 0.9979\n",
      "Epoch 3/5\n",
      "792/792 [==============================] - 2s 2ms/step - loss: 0.0055 - binary_accuracy: 0.9985\n",
      "Epoch 4/5\n",
      "792/792 [==============================] - 2s 2ms/step - loss: 0.0044 - binary_accuracy: 0.9987\n",
      "Epoch 5/5\n",
      "792/792 [==============================] - 2s 2ms/step - loss: 0.0038 - binary_accuracy: 0.9989\n",
      "67/67 [==============================] - 0s 2ms/step - loss: 0.0017 - binary_accuracy: 0.9995\n",
      "2.4.0\n",
      " Processing - Node changes 24\n",
      "Model: \"sequential_2\"\n",
      "_________________________________________________________________\n",
      "Layer (type)                 Output Shape              Param #   \n",
      "=================================================================\n",
      "dense_8 (Dense)              (None, 24)                18840     \n",
      "_________________________________________________________________\n",
      "dense_9 (Dense)              (None, 20)                500       \n",
      "_________________________________________________________________\n",
      "dense_10 (Dense)             (None, 16)                336       \n",
      "_________________________________________________________________\n",
      "dense_11 (Dense)             (None, 1)                 17        \n",
      "=================================================================\n",
      "Total params: 19,693\n",
      "Trainable params: 19,693\n",
      "Non-trainable params: 0\n",
      "_________________________________________________________________\n",
      "Epoch 1/5\n",
      "792/792 [==============================] - 2s 2ms/step - loss: 0.0605 - binary_accuracy: 0.9957\n",
      "Epoch 2/5\n",
      "792/792 [==============================] - 2s 2ms/step - loss: 0.0070 - binary_accuracy: 0.9984\n",
      "Epoch 3/5\n",
      "792/792 [==============================] - 2s 2ms/step - loss: 0.0050 - binary_accuracy: 0.9985\n",
      "Epoch 4/5\n",
      "792/792 [==============================] - 2s 2ms/step - loss: 0.0041 - binary_accuracy: 0.9987\n",
      "Epoch 5/5\n",
      "792/792 [==============================] - 2s 2ms/step - loss: 0.0035 - binary_accuracy: 0.9990\n",
      "67/67 [==============================] - 0s 2ms/step - loss: 0.0019 - binary_accuracy: 0.9995\n",
      "2.4.0\n",
      " Processing - Node changes 36\n",
      "Model: \"sequential_3\"\n",
      "_________________________________________________________________\n",
      "Layer (type)                 Output Shape              Param #   \n",
      "=================================================================\n",
      "dense_12 (Dense)             (None, 36)                28260     \n",
      "_________________________________________________________________\n",
      "dense_13 (Dense)             (None, 32)                1184      \n",
      "_________________________________________________________________\n",
      "dense_14 (Dense)             (None, 28)                924       \n",
      "_________________________________________________________________\n",
      "dense_15 (Dense)             (None, 1)                 29        \n",
      "=================================================================\n",
      "Total params: 30,397\n",
      "Trainable params: 30,397\n",
      "Non-trainable params: 0\n",
      "_________________________________________________________________\n",
      "Epoch 1/5\n",
      "792/792 [==============================] - 2s 2ms/step - loss: 0.0988 - binary_accuracy: 0.9849\n",
      "Epoch 2/5\n",
      "792/792 [==============================] - 2s 2ms/step - loss: 0.0091 - binary_accuracy: 0.9982\n",
      "Epoch 3/5\n",
      "792/792 [==============================] - 2s 2ms/step - loss: 0.0064 - binary_accuracy: 0.9985\n",
      "Epoch 4/5\n",
      "792/792 [==============================] - 2s 2ms/step - loss: 0.0052 - binary_accuracy: 0.9987\n",
      "Epoch 5/5\n",
      "792/792 [==============================] - 2s 2ms/step - loss: 0.0045 - binary_accuracy: 0.9988\n",
      "67/67 [==============================] - 0s 2ms/step - loss: 0.0026 - binary_accuracy: 0.9991\n",
      "2.4.0\n",
      " Processing - Node changes 48\n",
      "Model: \"sequential_4\"\n",
      "_________________________________________________________________\n",
      "Layer (type)                 Output Shape              Param #   \n",
      "=================================================================\n",
      "dense_16 (Dense)             (None, 48)                37680     \n",
      "_________________________________________________________________\n",
      "dense_17 (Dense)             (None, 44)                2156      \n",
      "_________________________________________________________________\n",
      "dense_18 (Dense)             (None, 40)                1800      \n",
      "_________________________________________________________________\n",
      "dense_19 (Dense)             (None, 1)                 41        \n",
      "=================================================================\n",
      "Total params: 41,677\n",
      "Trainable params: 41,677\n",
      "Non-trainable params: 0\n",
      "_________________________________________________________________\n",
      "Epoch 1/5\n",
      "792/792 [==============================] - 2s 2ms/step - loss: 0.1060 - binary_accuracy: 0.9701\n",
      "Epoch 2/5\n",
      "792/792 [==============================] - 2s 3ms/step - loss: 0.0079 - binary_accuracy: 0.9983\n",
      "Epoch 3/5\n",
      "792/792 [==============================] - 2s 2ms/step - loss: 0.0057 - binary_accuracy: 0.9985\n",
      "Epoch 4/5\n",
      "792/792 [==============================] - 2s 2ms/step - loss: 0.0047 - binary_accuracy: 0.9988\n",
      "Epoch 5/5\n",
      "792/792 [==============================] - 2s 2ms/step - loss: 0.0040 - binary_accuracy: 0.9988\n",
      "67/67 [==============================] - 0s 2ms/step - loss: 0.0018 - binary_accuracy: 1.0000\n",
      "2.4.0\n",
      " Processing - Node changes 60\n",
      "Model: \"sequential_5\"\n",
      "_________________________________________________________________\n",
      "Layer (type)                 Output Shape              Param #   \n",
      "=================================================================\n",
      "dense_20 (Dense)             (None, 60)                47100     \n",
      "_________________________________________________________________\n",
      "dense_21 (Dense)             (None, 56)                3416      \n",
      "_________________________________________________________________\n",
      "dense_22 (Dense)             (None, 52)                2964      \n",
      "_________________________________________________________________\n",
      "dense_23 (Dense)             (None, 1)                 53        \n",
      "=================================================================\n",
      "Total params: 53,533\n",
      "Trainable params: 53,533\n",
      "Non-trainable params: 0\n",
      "_________________________________________________________________\n",
      "Epoch 1/5\n",
      "792/792 [==============================] - 2s 2ms/step - loss: 0.0650 - binary_accuracy: 0.9925\n",
      "Epoch 2/5\n",
      "792/792 [==============================] - 2s 3ms/step - loss: 0.0075 - binary_accuracy: 0.9979\n",
      "Epoch 3/5\n",
      "792/792 [==============================] - 2s 2ms/step - loss: 0.0052 - binary_accuracy: 0.9987\n",
      "Epoch 4/5\n",
      "792/792 [==============================] - 2s 2ms/step - loss: 0.0043 - binary_accuracy: 0.9989\n",
      "Epoch 5/5\n",
      "792/792 [==============================] - 2s 2ms/step - loss: 0.0037 - binary_accuracy: 0.9991\n",
      "67/67 [==============================] - 0s 2ms/step - loss: 0.0028 - binary_accuracy: 0.9991\n"
     ]
    }
   ],
   "source": [
    "# i. Number of nodes in the hidden layers.\n",
    "\n",
    "node_list = [ 12,24,36,48,60]\n",
    "for node in node_list :\n",
    "\n",
    "  import numpy as np\n",
    "  from tensorflow import keras\n",
    "  print (keras.__version__)\n",
    "  from keras.datasets import mnist\n",
    "  (x_train, y_train), (x_test, y_test) = mnist.load_data()\n",
    "  x_train_new, y_train_new = x_train[(y_train==0) | (y_train==1)], y_train[(y_train==0) | (y_train==1)]\n",
    "  x_train_final = x_train_new.reshape((-1, 784))\n",
    "  x_test_new, y_test_new = x_test[(y_test==0) | (y_test==1)], y_test[(y_test==0) | (y_test==1)]\n",
    "  x_test_final = x_test_new.reshape((-1, 784))\n",
    "  x_train_final = x_train_final / 255\n",
    "  x_test_final = x_test_final / 255\n",
    "\n",
    "\n",
    "  from tensorflow.keras.models import Sequential\n",
    "  from tensorflow.keras.layers import Dense, Activation, Dropout\n",
    "  from tensorflow.keras.utils import to_categorical, plot_model\n",
    "  from tensorflow.keras.datasets import mnist\n",
    "\n",
    "  from tensorflow import keras\n",
    "\n",
    "  print(f\" Processing - Node changes { node}\")\n",
    "  model = Sequential()\n",
    "  model.add(Dense(node , input_shape=(784,), activation='relu'))\n",
    "  model.add(Dense(node -4, activation='relu'))\n",
    "  model.add(Dense(node - 8, activation='relu'))\n",
    "  model.add(Dense( 1, activation='sigmoid'))\n",
    "\n",
    "\n",
    "\n",
    "  model.summary()\n",
    "  plot_model(model, to_file='mlp-mnist.png', show_shapes=True)\n",
    "\n",
    "  \n",
    "\n",
    "\n",
    "\n",
    "\n",
    "  model.compile(optimizer='sgd', loss='binary_crossentropy', metrics=['binary_accuracy'])\n",
    "  model.fit(\n",
    "    x=x_train_final,\n",
    "    y=y_train_new,\n",
    "    shuffle=True,\n",
    "    epochs=5,\n",
    "    batch_size=16\n",
    "  )\n",
    "  eval = model.evaluate(x=x_test_final, y=y_test_new)\n",
    "  plot_model(model, to_file='mlp-mnist.png', show_shapes=True)"
   ]
  },
  {
   "cell_type": "code",
   "execution_count": null,
   "metadata": {
    "id": "mcAZWe_vCg_G"
   },
   "outputs": [],
   "source": []
  },
  {
   "cell_type": "markdown",
   "metadata": {
    "id": "JlvWZHSrCmNH"
   },
   "source": [
    "# New Section"
   ]
  },
  {
   "cell_type": "code",
   "execution_count": null,
   "metadata": {
    "colab": {
     "base_uri": "https://localhost:8080/"
    },
    "id": "VdBw3ZuSCulC",
    "outputId": "8c19b289-2a99-439f-8b30-32406f372df7"
   },
   "outputs": [
    {
     "name": "stdout",
     "output_type": "stream",
     "text": [
      "2.4.0\n",
      " Processing - activation function  changes tanh\n",
      "Model: \"sequential_6\"\n",
      "_________________________________________________________________\n",
      "Layer (type)                 Output Shape              Param #   \n",
      "=================================================================\n",
      "dense_24 (Dense)             (None, 16)                12560     \n",
      "_________________________________________________________________\n",
      "dense_25 (Dense)             (None, 12)                204       \n",
      "_________________________________________________________________\n",
      "dense_26 (Dense)             (None, 8)                 104       \n",
      "_________________________________________________________________\n",
      "dense_27 (Dense)             (None, 1)                 9         \n",
      "=================================================================\n",
      "Total params: 12,877\n",
      "Trainable params: 12,877\n",
      "Non-trainable params: 0\n",
      "_________________________________________________________________\n",
      "Epoch 1/5\n",
      "792/792 [==============================] - 2s 2ms/step - loss: 0.0238 - binary_accuracy: 0.9962\n",
      "Epoch 2/5\n",
      "792/792 [==============================] - 2s 2ms/step - loss: 0.0102 - binary_accuracy: 0.9990\n",
      "Epoch 3/5\n",
      "792/792 [==============================] - 2s 2ms/step - loss: 0.0094 - binary_accuracy: 0.9987\n",
      "Epoch 4/5\n",
      "792/792 [==============================] - 2s 2ms/step - loss: 0.0088 - binary_accuracy: 0.9990\n",
      "Epoch 5/5\n",
      "792/792 [==============================] - 2s 2ms/step - loss: 0.0079 - binary_accuracy: 0.9992\n",
      "67/67 [==============================] - 0s 2ms/step - loss: 0.0103 - binary_accuracy: 0.9981\n",
      "2.4.0\n",
      " Processing - activation function  changes relu\n",
      "Model: \"sequential_7\"\n",
      "_________________________________________________________________\n",
      "Layer (type)                 Output Shape              Param #   \n",
      "=================================================================\n",
      "dense_28 (Dense)             (None, 16)                12560     \n",
      "_________________________________________________________________\n",
      "dense_29 (Dense)             (None, 12)                204       \n",
      "_________________________________________________________________\n",
      "dense_30 (Dense)             (None, 8)                 104       \n",
      "_________________________________________________________________\n",
      "dense_31 (Dense)             (None, 1)                 9         \n",
      "=================================================================\n",
      "Total params: 12,877\n",
      "Trainable params: 12,877\n",
      "Non-trainable params: 0\n",
      "_________________________________________________________________\n",
      "Epoch 1/5\n",
      "792/792 [==============================] - 2s 2ms/step - loss: 0.0297 - binary_accuracy: 0.9931\n",
      "Epoch 2/5\n",
      "792/792 [==============================] - 2s 2ms/step - loss: 0.0116 - binary_accuracy: 0.9987\n",
      "Epoch 3/5\n",
      "792/792 [==============================] - 2s 2ms/step - loss: 0.0060 - binary_accuracy: 0.9984\n",
      "Epoch 4/5\n",
      "792/792 [==============================] - 2s 2ms/step - loss: 0.0056 - binary_accuracy: 0.9991\n",
      "Epoch 5/5\n",
      "792/792 [==============================] - 2s 2ms/step - loss: 0.0047 - binary_accuracy: 0.9988\n",
      "67/67 [==============================] - 0s 2ms/step - loss: 0.0100 - binary_accuracy: 0.9991\n",
      "2.4.0\n",
      " Processing - activation function  changes sigmoid\n",
      "Model: \"sequential_8\"\n",
      "_________________________________________________________________\n",
      "Layer (type)                 Output Shape              Param #   \n",
      "=================================================================\n",
      "dense_32 (Dense)             (None, 16)                12560     \n",
      "_________________________________________________________________\n",
      "dense_33 (Dense)             (None, 12)                204       \n",
      "_________________________________________________________________\n",
      "dense_34 (Dense)             (None, 8)                 104       \n",
      "_________________________________________________________________\n",
      "dense_35 (Dense)             (None, 1)                 9         \n",
      "=================================================================\n",
      "Total params: 12,877\n",
      "Trainable params: 12,877\n",
      "Non-trainable params: 0\n",
      "_________________________________________________________________\n",
      "Epoch 1/5\n",
      "792/792 [==============================] - 2s 2ms/step - loss: 0.6870 - binary_accuracy: 0.5229\n",
      "Epoch 2/5\n",
      "792/792 [==============================] - 2s 2ms/step - loss: 0.6662 - binary_accuracy: 0.5552\n",
      "Epoch 3/5\n",
      "792/792 [==============================] - 2s 2ms/step - loss: 0.6206 - binary_accuracy: 0.7484\n",
      "Epoch 4/5\n",
      "792/792 [==============================] - 2s 2ms/step - loss: 0.4882 - binary_accuracy: 0.9843\n",
      "Epoch 5/5\n",
      "792/792 [==============================] - 2s 2ms/step - loss: 0.2668 - binary_accuracy: 0.9958\n",
      "67/67 [==============================] - 0s 2ms/step - loss: 0.1709 - binary_accuracy: 0.9981\n"
     ]
    }
   ],
   "source": [
    "# Tanh, Relu, and Logistic activation functions.\n",
    "\n",
    "fn_list = [ \"tanh\", \"relu\",\"sigmoid\"]\n",
    "for fn in fn_list :\n",
    "\n",
    "  import numpy as np\n",
    "  from tensorflow import keras\n",
    "  print (keras.__version__)\n",
    "  from keras.datasets import mnist\n",
    "  (x_train, y_train), (x_test, y_test) = mnist.load_data()\n",
    "  x_train_new, y_train_new = x_train[(y_train==0) | (y_train==1)], y_train[(y_train==0) | (y_train==1)]\n",
    "  x_train_final = x_train_new.reshape((-1, 784))\n",
    "  x_test_new, y_test_new = x_test[(y_test==0) | (y_test==1)], y_test[(y_test==0) | (y_test==1)]\n",
    "  x_test_final = x_test_new.reshape((-1, 784))\n",
    "  x_train_final = x_train_final / 255\n",
    "  x_test_final = x_test_final / 255\n",
    "\n",
    "\n",
    "  from tensorflow.keras.models import Sequential\n",
    "  from tensorflow.keras.layers import Dense, Activation, Dropout\n",
    "  from tensorflow.keras.utils import to_categorical, plot_model\n",
    "  from tensorflow.keras.datasets import mnist\n",
    "\n",
    "  from tensorflow import keras\n",
    "\n",
    "  print(f\" Processing - activation function  changes { fn }\")\n",
    "  model = Sequential()\n",
    "  node = 16 # No. of nodes - fixed\n",
    "  model.add(Dense(node , input_shape=(784,), activation=fn))\n",
    "  model.add(Dense(node -4, activation=fn))\n",
    "  model.add(Dense(node - 8, activation=fn))\n",
    "  model.add(Dense( 1, activation=fn))\n",
    "\n",
    "\n",
    "\n",
    "  model.summary()\n",
    "  plot_model(model, to_file='mlp-mnist.png', show_shapes=True)\n",
    "\n",
    "  \n",
    "\n",
    "\n",
    "\n",
    "\n",
    "  model.compile(optimizer='sgd', loss='binary_crossentropy', metrics=['binary_accuracy'])\n",
    "  model.fit(\n",
    "    x=x_train_final,\n",
    "    y=y_train_new,\n",
    "    shuffle=True,\n",
    "    epochs=5,\n",
    "    batch_size=16\n",
    "  )\n",
    "  eval = model.evaluate(x=x_test_final, y=y_test_new)\n",
    "  plot_model(model, to_file='mlp-mnist.png', show_shapes=True)"
   ]
  },
  {
   "cell_type": "code",
   "execution_count": null,
   "metadata": {
    "id": "toQCw7CoC9q4"
   },
   "outputs": [],
   "source": []
  },
  {
   "cell_type": "code",
   "execution_count": null,
   "metadata": {
    "colab": {
     "base_uri": "https://localhost:8080/"
    },
    "id": "YfbRLpAeC_sv",
    "outputId": "4967c0c3-9e73-45ad-c4d2-0d59f834d613"
   },
   "outputs": [
    {
     "name": "stdout",
     "output_type": "stream",
     "text": [
      "2.4.0\n",
      " Processing - learning rate  changes 0.001\n",
      "Model: \"sequential_19\"\n",
      "_________________________________________________________________\n",
      "Layer (type)                 Output Shape              Param #   \n",
      "=================================================================\n",
      "dense_76 (Dense)             (None, 16)                12560     \n",
      "_________________________________________________________________\n",
      "dense_77 (Dense)             (None, 12)                204       \n",
      "_________________________________________________________________\n",
      "dense_78 (Dense)             (None, 8)                 104       \n",
      "_________________________________________________________________\n",
      "dense_79 (Dense)             (None, 1)                 9         \n",
      "=================================================================\n",
      "Total params: 12,877\n",
      "Trainable params: 12,877\n",
      "Non-trainable params: 0\n",
      "_________________________________________________________________\n",
      "model <tensorflow.python.keras.engine.sequential.Sequential object at 0x7f0853d88c18>\n",
      "Epoch 1/5\n",
      "792/792 [==============================] - 2s 2ms/step - loss: 0.2732 - binary_accuracy: 0.9558\n",
      "Epoch 2/5\n",
      "792/792 [==============================] - 2s 2ms/step - loss: 0.0356 - binary_accuracy: 0.9987\n",
      "Epoch 3/5\n",
      "792/792 [==============================] - 2s 3ms/step - loss: 0.0154 - binary_accuracy: 0.9993\n",
      "Epoch 4/5\n",
      "792/792 [==============================] - 2s 2ms/step - loss: 0.0093 - binary_accuracy: 0.9994\n",
      "Epoch 5/5\n",
      "792/792 [==============================] - 2s 2ms/step - loss: 0.0063 - binary_accuracy: 0.9995\n",
      "67/67 [==============================] - 0s 2ms/step - loss: 0.0095 - binary_accuracy: 0.9981\n",
      "2.4.0\n",
      " Processing - learning rate  changes 0.01\n",
      "Model: \"sequential_20\"\n",
      "_________________________________________________________________\n",
      "Layer (type)                 Output Shape              Param #   \n",
      "=================================================================\n",
      "dense_80 (Dense)             (None, 16)                12560     \n",
      "_________________________________________________________________\n",
      "dense_81 (Dense)             (None, 12)                204       \n",
      "_________________________________________________________________\n",
      "dense_82 (Dense)             (None, 8)                 104       \n",
      "_________________________________________________________________\n",
      "dense_83 (Dense)             (None, 1)                 9         \n",
      "=================================================================\n",
      "Total params: 12,877\n",
      "Trainable params: 12,877\n",
      "Non-trainable params: 0\n",
      "_________________________________________________________________\n",
      "model <tensorflow.python.keras.engine.sequential.Sequential object at 0x7f085c22bdd8>\n",
      "Epoch 1/5\n",
      "792/792 [==============================] - 2s 2ms/step - loss: 0.2650 - binary_accuracy: 0.9582\n",
      "Epoch 2/5\n",
      "792/792 [==============================] - 2s 2ms/step - loss: 0.0347 - binary_accuracy: 0.9988\n",
      "Epoch 3/5\n",
      "792/792 [==============================] - 2s 2ms/step - loss: 0.0148 - binary_accuracy: 0.9995\n",
      "Epoch 4/5\n",
      "792/792 [==============================] - 2s 2ms/step - loss: 0.0090 - binary_accuracy: 0.9994\n",
      "Epoch 5/5\n",
      "792/792 [==============================] - 2s 2ms/step - loss: 0.0063 - binary_accuracy: 0.9993\n",
      "67/67 [==============================] - 0s 2ms/step - loss: 0.0083 - binary_accuracy: 0.9986\n",
      "2.4.0\n",
      " Processing - learning rate  changes 0.1\n",
      "Model: \"sequential_21\"\n",
      "_________________________________________________________________\n",
      "Layer (type)                 Output Shape              Param #   \n",
      "=================================================================\n",
      "dense_84 (Dense)             (None, 16)                12560     \n",
      "_________________________________________________________________\n",
      "dense_85 (Dense)             (None, 12)                204       \n",
      "_________________________________________________________________\n",
      "dense_86 (Dense)             (None, 8)                 104       \n",
      "_________________________________________________________________\n",
      "dense_87 (Dense)             (None, 1)                 9         \n",
      "=================================================================\n",
      "Total params: 12,877\n",
      "Trainable params: 12,877\n",
      "Non-trainable params: 0\n",
      "_________________________________________________________________\n",
      "model <tensorflow.python.keras.engine.sequential.Sequential object at 0x7f0851a3dac8>\n",
      "Epoch 1/5\n",
      "792/792 [==============================] - 2s 2ms/step - loss: 0.2745 - binary_accuracy: 0.9721\n",
      "Epoch 2/5\n",
      "792/792 [==============================] - 2s 2ms/step - loss: 0.0388 - binary_accuracy: 0.9988\n",
      "Epoch 3/5\n",
      "792/792 [==============================] - 2s 2ms/step - loss: 0.0166 - binary_accuracy: 0.9992\n",
      "Epoch 4/5\n",
      "792/792 [==============================] - 2s 2ms/step - loss: 0.0096 - binary_accuracy: 0.9994\n",
      "Epoch 5/5\n",
      "792/792 [==============================] - 2s 2ms/step - loss: 0.0070 - binary_accuracy: 0.9993\n",
      "67/67 [==============================] - 0s 2ms/step - loss: 0.0070 - binary_accuracy: 0.9991\n",
      "2.4.0\n",
      " Processing - learning rate  changes 1\n",
      "Model: \"sequential_22\"\n",
      "_________________________________________________________________\n",
      "Layer (type)                 Output Shape              Param #   \n",
      "=================================================================\n",
      "dense_88 (Dense)             (None, 16)                12560     \n",
      "_________________________________________________________________\n",
      "dense_89 (Dense)             (None, 12)                204       \n",
      "_________________________________________________________________\n",
      "dense_90 (Dense)             (None, 8)                 104       \n",
      "_________________________________________________________________\n",
      "dense_91 (Dense)             (None, 1)                 9         \n",
      "=================================================================\n",
      "Total params: 12,877\n",
      "Trainable params: 12,877\n",
      "Non-trainable params: 0\n",
      "_________________________________________________________________\n",
      "model <tensorflow.python.keras.engine.sequential.Sequential object at 0x7f0852b86d30>\n",
      "Epoch 1/5\n",
      "792/792 [==============================] - 2s 2ms/step - loss: 0.2457 - binary_accuracy: 0.9464\n",
      "Epoch 2/5\n",
      "792/792 [==============================] - 2s 2ms/step - loss: 0.0348 - binary_accuracy: 0.9987\n",
      "Epoch 3/5\n",
      "792/792 [==============================] - 2s 2ms/step - loss: 0.0152 - binary_accuracy: 0.9991\n",
      "Epoch 4/5\n",
      "792/792 [==============================] - 2s 2ms/step - loss: 0.0088 - binary_accuracy: 0.9995\n",
      "Epoch 5/5\n",
      "792/792 [==============================] - 2s 2ms/step - loss: 0.0068 - binary_accuracy: 0.9993\n",
      "67/67 [==============================] - 0s 2ms/step - loss: 0.0077 - binary_accuracy: 0.9986\n"
     ]
    }
   ],
   "source": [
    "\n",
    "\n",
    "#Hyperparameters: Momentum term, Early stopping, and Learning Rate\n",
    "\n",
    "from keras import backend as K\n",
    "\n",
    "\n",
    "learning_rate_list = [ 0.001, 0.010, 0.1, 1]\n",
    "\n",
    "for l_r in  learning_rate_list:\n",
    "\n",
    "  import numpy as np\n",
    "  from tensorflow import keras\n",
    "  print (keras.__version__)\n",
    "  from keras.datasets import mnist\n",
    "  (x_train, y_train), (x_test, y_test) = mnist.load_data()\n",
    "  x_train_new, y_train_new = x_train[(y_train==0) | (y_train==1)], y_train[(y_train==0) | (y_train==1)]\n",
    "  x_train_final = x_train_new.reshape((-1, 784))\n",
    "  x_test_new, y_test_new = x_test[(y_test==0) | (y_test==1)], y_test[(y_test==0) | (y_test==1)]\n",
    "  x_test_final = x_test_new.reshape((-1, 784))\n",
    "  x_train_final = x_train_final / 255\n",
    "  x_test_final = x_test_final / 255\n",
    "\n",
    "\n",
    "  from tensorflow.keras.models import Sequential\n",
    "  from tensorflow.keras.layers import Dense, Activation, Dropout\n",
    "  from tensorflow.keras.utils import to_categorical, plot_model\n",
    "  from tensorflow.keras.datasets import mnist\n",
    "\n",
    "  from tensorflow import keras\n",
    "\n",
    "  print(f\" Processing - learning rate  changes { l_r }\")\n",
    "  model = Sequential()\n",
    "  node = 16 # No. of nodes - fixed\n",
    "  \n",
    "  model.add(Dense(node , input_shape=(784,), activation=fn))\n",
    "  model.add(Dense(node -4, activation=fn))\n",
    "  model.add(Dense(node - 8, activation=fn))\n",
    "  model.add(Dense( 1, activation=fn))\n",
    "\n",
    "\n",
    "\n",
    "  model.summary()\n",
    "  plot_model(model, to_file='mlp-mnist.png', show_shapes=True)\n",
    "\n",
    "  \n",
    "\n",
    "\n",
    "  print (f'model {model}')\n",
    "\n",
    "\n",
    "  keras.optimizers.Adam(lr=l_r)\n",
    "\n",
    "  #K.set_value(model.optimizer.learning_rate, l_r)\n",
    "\n",
    "  \n",
    "\n",
    "  model.compile(optimizer='adam', loss='binary_crossentropy', metrics=['binary_accuracy'])\n",
    "  model.fit(\n",
    "    x=x_train_final,\n",
    "    y=y_train_new,\n",
    "    shuffle=True,\n",
    "    epochs=5,\n",
    "    batch_size=16\n",
    "  )\n",
    "  eval = model.evaluate(x=x_test_final, y=y_test_new)\n",
    "  plot_model(model, to_file='mlp-mnist.png', show_shapes=True)"
   ]
  },
  {
   "cell_type": "code",
   "execution_count": null,
   "metadata": {
    "colab": {
     "base_uri": "https://localhost:8080/"
    },
    "id": "NEQkxv-wCojo",
    "outputId": "5af7f285-1880-41d6-8917-f1e4abddf7d3"
   },
   "outputs": [
    {
     "name": "stdout",
     "output_type": "stream",
     "text": [
      "2.4.0\n",
      " Processing - learning rate  changes 0.001\n",
      "Model: \"sequential_29\"\n",
      "_________________________________________________________________\n",
      "Layer (type)                 Output Shape              Param #   \n",
      "=================================================================\n",
      "dense_116 (Dense)            (None, 16)                12560     \n",
      "_________________________________________________________________\n",
      "dense_117 (Dense)            (None, 12)                204       \n",
      "_________________________________________________________________\n",
      "dense_118 (Dense)            (None, 8)                 104       \n",
      "_________________________________________________________________\n",
      "dense_119 (Dense)            (None, 1)                 9         \n",
      "=================================================================\n",
      "Total params: 12,877\n",
      "Trainable params: 12,877\n",
      "Non-trainable params: 0\n",
      "_________________________________________________________________\n",
      "model <tensorflow.python.keras.engine.sequential.Sequential object at 0x7f08529e1cc0>\n",
      "Epoch 1/5\n",
      "792/792 [==============================] - 2s 2ms/step - loss: 0.2486 - binary_accuracy: 0.9589\n",
      "Epoch 2/5\n",
      "792/792 [==============================] - 2s 2ms/step - loss: 0.0343 - binary_accuracy: 0.9990\n",
      "Epoch 3/5\n",
      "792/792 [==============================] - 2s 2ms/step - loss: 0.0144 - binary_accuracy: 0.9994\n",
      "Epoch 4/5\n",
      "792/792 [==============================] - 2s 2ms/step - loss: 0.0093 - binary_accuracy: 0.9991\n",
      "Epoch 5/5\n",
      "792/792 [==============================] - 2s 2ms/step - loss: 0.0062 - binary_accuracy: 0.9994\n",
      "67/67 [==============================] - 0s 2ms/step - loss: 0.0052 - binary_accuracy: 0.9995\n",
      "2.4.0\n",
      " Processing - learning rate  changes 0.01\n",
      "Model: \"sequential_30\"\n",
      "_________________________________________________________________\n",
      "Layer (type)                 Output Shape              Param #   \n",
      "=================================================================\n",
      "dense_120 (Dense)            (None, 16)                12560     \n",
      "_________________________________________________________________\n",
      "dense_121 (Dense)            (None, 12)                204       \n",
      "_________________________________________________________________\n",
      "dense_122 (Dense)            (None, 8)                 104       \n",
      "_________________________________________________________________\n",
      "dense_123 (Dense)            (None, 1)                 9         \n",
      "=================================================================\n",
      "Total params: 12,877\n",
      "Trainable params: 12,877\n",
      "Non-trainable params: 0\n",
      "_________________________________________________________________\n",
      "model <tensorflow.python.keras.engine.sequential.Sequential object at 0x7f085e4f3208>\n",
      "Epoch 1/5\n",
      "792/792 [==============================] - 2s 2ms/step - loss: 0.0495 - binary_accuracy: 0.9952\n",
      "Epoch 2/5\n",
      "792/792 [==============================] - 2s 2ms/step - loss: 0.0072 - binary_accuracy: 0.9987\n",
      "Epoch 3/5\n",
      "792/792 [==============================] - 2s 3ms/step - loss: 0.0055 - binary_accuracy: 0.9985\n",
      "Epoch 4/5\n",
      "792/792 [==============================] - 2s 2ms/step - loss: 0.0050 - binary_accuracy: 0.9987\n",
      "Epoch 5/5\n",
      "792/792 [==============================] - 2s 2ms/step - loss: 0.0021 - binary_accuracy: 0.9993\n",
      "67/67 [==============================] - 0s 2ms/step - loss: 0.0022 - binary_accuracy: 0.9991\n",
      "2.4.0\n",
      " Processing - learning rate  changes 0.1\n",
      "Model: \"sequential_31\"\n",
      "_________________________________________________________________\n",
      "Layer (type)                 Output Shape              Param #   \n",
      "=================================================================\n",
      "dense_124 (Dense)            (None, 16)                12560     \n",
      "_________________________________________________________________\n",
      "dense_125 (Dense)            (None, 12)                204       \n",
      "_________________________________________________________________\n",
      "dense_126 (Dense)            (None, 8)                 104       \n",
      "_________________________________________________________________\n",
      "dense_127 (Dense)            (None, 1)                 9         \n",
      "=================================================================\n",
      "Total params: 12,877\n",
      "Trainable params: 12,877\n",
      "Non-trainable params: 0\n",
      "_________________________________________________________________\n",
      "model <tensorflow.python.keras.engine.sequential.Sequential object at 0x7f0852b64160>\n",
      "Epoch 1/5\n",
      "792/792 [==============================] - 2s 2ms/step - loss: 0.0431 - binary_accuracy: 0.9829\n",
      "Epoch 2/5\n",
      "792/792 [==============================] - 2s 2ms/step - loss: 0.0144 - binary_accuracy: 0.9967\n",
      "Epoch 3/5\n",
      "792/792 [==============================] - 2s 2ms/step - loss: 0.0119 - binary_accuracy: 0.9966\n",
      "Epoch 4/5\n",
      "792/792 [==============================] - 2s 2ms/step - loss: 0.0098 - binary_accuracy: 0.9967\n",
      "Epoch 5/5\n",
      "792/792 [==============================] - 2s 2ms/step - loss: 0.0202 - binary_accuracy: 0.9966\n",
      "67/67 [==============================] - 0s 2ms/step - loss: 0.0033 - binary_accuracy: 0.9991\n",
      "2.4.0\n",
      " Processing - learning rate  changes 1\n",
      "Model: \"sequential_32\"\n",
      "_________________________________________________________________\n",
      "Layer (type)                 Output Shape              Param #   \n",
      "=================================================================\n",
      "dense_128 (Dense)            (None, 16)                12560     \n",
      "_________________________________________________________________\n",
      "dense_129 (Dense)            (None, 12)                204       \n",
      "_________________________________________________________________\n",
      "dense_130 (Dense)            (None, 8)                 104       \n",
      "_________________________________________________________________\n",
      "dense_131 (Dense)            (None, 1)                 9         \n",
      "=================================================================\n",
      "Total params: 12,877\n",
      "Trainable params: 12,877\n",
      "Non-trainable params: 0\n",
      "_________________________________________________________________\n",
      "model <tensorflow.python.keras.engine.sequential.Sequential object at 0x7f085e4d7da0>\n",
      "Epoch 1/5\n",
      "792/792 [==============================] - 2s 2ms/step - loss: 0.7640 - binary_accuracy: 0.5059\n",
      "Epoch 2/5\n",
      "792/792 [==============================] - 2s 2ms/step - loss: 0.7570 - binary_accuracy: 0.5005\n",
      "Epoch 3/5\n",
      "792/792 [==============================] - 2s 2ms/step - loss: 0.7486 - binary_accuracy: 0.5083\n",
      "Epoch 4/5\n",
      "792/792 [==============================] - 2s 2ms/step - loss: 0.7522 - binary_accuracy: 0.4989\n",
      "Epoch 5/5\n",
      "792/792 [==============================] - 2s 2ms/step - loss: 0.7467 - binary_accuracy: 0.5081\n",
      "67/67 [==============================] - 0s 2ms/step - loss: 0.7875 - binary_accuracy: 0.4634\n"
     ]
    }
   ],
   "source": [
    "from keras import backend as K\n",
    "\n",
    "\n",
    "learning_rate_list = [ 0.001, 0.010, 0.1, 1]\n",
    "\n",
    "for l_r in  learning_rate_list:\n",
    "\n",
    "  import numpy as np\n",
    "  from tensorflow import keras\n",
    "  print (keras.__version__)\n",
    "  from keras.datasets import mnist\n",
    "  (x_train, y_train), (x_test, y_test) = mnist.load_data()\n",
    "  x_train_new, y_train_new = x_train[(y_train==0) | (y_train==1)], y_train[(y_train==0) | (y_train==1)]\n",
    "  x_train_final = x_train_new.reshape((-1, 784))\n",
    "  x_test_new, y_test_new = x_test[(y_test==0) | (y_test==1)], y_test[(y_test==0) | (y_test==1)]\n",
    "  x_test_final = x_test_new.reshape((-1, 784))\n",
    "  x_train_final = x_train_final / 255\n",
    "  x_test_final = x_test_final / 255\n",
    "\n",
    "\n",
    "  from tensorflow.keras.models import Sequential\n",
    "  from tensorflow.keras.layers import Dense, Activation, Dropout\n",
    "  from tensorflow.keras.utils import to_categorical, plot_model\n",
    "  from tensorflow.keras.datasets import mnist\n",
    "\n",
    "  from tensorflow import keras\n",
    "\n",
    "  print(f\" Processing - learning rate  changes { l_r }\")\n",
    "  model = Sequential()\n",
    "  node = 16 # No. of nodes - fixed\n",
    "  \n",
    "  model.add(Dense(node , input_shape=(784,), activation=fn))\n",
    "  model.add(Dense(node -4, activation=fn))\n",
    "  model.add(Dense(node - 8, activation=fn))\n",
    "  model.add(Dense( 1, activation=fn))\n",
    "\n",
    "\n",
    "\n",
    "  model.summary()\n",
    "  plot_model(model, to_file='mlp-mnist.png', show_shapes=True)\n",
    "\n",
    "  \n",
    "\n",
    "\n",
    "  print (f'model {model}')\n",
    "\n",
    "\n",
    "  opt = keras.optimizers.Adam(lr=l_r)\n",
    "\n",
    "  #K.set_value(model.optimizer.learning_rate, l_r)\n",
    "\n",
    "  \n",
    "\n",
    "  model.compile(optimizer=opt, loss='binary_crossentropy', metrics=['binary_accuracy'])\n",
    "  model.fit(\n",
    "    x=x_train_final,\n",
    "    y=y_train_new,\n",
    "    shuffle=True,\n",
    "    epochs=5,\n",
    "    batch_size=16\n",
    "  )\n",
    "  eval = model.evaluate(x=x_test_final, y=y_test_new)\n",
    "  plot_model(model, to_file='mlp-mnist.png', show_shapes=True)"
   ]
  },
  {
   "cell_type": "code",
   "execution_count": null,
   "metadata": {
    "colab": {
     "base_uri": "https://localhost:8080/"
    },
    "id": "XtPzXcdVKjfY",
    "outputId": "f3f90f1c-6cec-424b-ec9c-f29ab65fcfb0"
   },
   "outputs": [
    {
     "name": "stdout",
     "output_type": "stream",
     "text": [
      "2.4.0\n",
      " Processing - momemtum  changes 0.0\n",
      "Model: \"sequential_42\"\n",
      "_________________________________________________________________\n",
      "Layer (type)                 Output Shape              Param #   \n",
      "=================================================================\n",
      "dense_168 (Dense)            (None, 16)                12560     \n",
      "_________________________________________________________________\n",
      "dense_169 (Dense)            (None, 12)                204       \n",
      "_________________________________________________________________\n",
      "dense_170 (Dense)            (None, 8)                 104       \n",
      "_________________________________________________________________\n",
      "dense_171 (Dense)            (None, 1)                 9         \n",
      "=================================================================\n",
      "Total params: 12,877\n",
      "Trainable params: 12,877\n",
      "Non-trainable params: 0\n",
      "_________________________________________________________________\n",
      "model <tensorflow.python.keras.engine.sequential.Sequential object at 0x7f086e0a75c0>\n",
      "Epoch 1/5\n",
      "792/792 [==============================] - 2s 2ms/step - loss: 0.0428 - binary_accuracy: 0.9799\n",
      "Epoch 2/5\n",
      "792/792 [==============================] - 2s 2ms/step - loss: 0.0052 - binary_accuracy: 0.9987\n",
      "Epoch 3/5\n",
      "792/792 [==============================] - 2s 2ms/step - loss: 0.0032 - binary_accuracy: 0.9991\n",
      "Epoch 4/5\n",
      "792/792 [==============================] - 2s 2ms/step - loss: 0.0019 - binary_accuracy: 0.9996\n",
      "Epoch 5/5\n",
      "792/792 [==============================] - 2s 2ms/step - loss: 0.0031 - binary_accuracy: 0.9990\n",
      "67/67 [==============================] - 0s 2ms/step - loss: 0.0028 - binary_accuracy: 0.9995\n",
      "2.4.0\n",
      " Processing - momemtum  changes 0.2\n",
      "Model: \"sequential_43\"\n",
      "_________________________________________________________________\n",
      "Layer (type)                 Output Shape              Param #   \n",
      "=================================================================\n",
      "dense_172 (Dense)            (None, 16)                12560     \n",
      "_________________________________________________________________\n",
      "dense_173 (Dense)            (None, 12)                204       \n",
      "_________________________________________________________________\n",
      "dense_174 (Dense)            (None, 8)                 104       \n",
      "_________________________________________________________________\n",
      "dense_175 (Dense)            (None, 1)                 9         \n",
      "=================================================================\n",
      "Total params: 12,877\n",
      "Trainable params: 12,877\n",
      "Non-trainable params: 0\n",
      "_________________________________________________________________\n",
      "model <tensorflow.python.keras.engine.sequential.Sequential object at 0x7f0854f74a20>\n",
      "Epoch 1/5\n",
      "792/792 [==============================] - 2s 2ms/step - loss: 0.0351 - binary_accuracy: 0.9868\n",
      "Epoch 2/5\n",
      "792/792 [==============================] - 2s 2ms/step - loss: 0.0046 - binary_accuracy: 0.9988\n",
      "Epoch 3/5\n",
      "792/792 [==============================] - 2s 2ms/step - loss: 0.0043 - binary_accuracy: 0.9991\n",
      "Epoch 4/5\n",
      "792/792 [==============================] - 2s 2ms/step - loss: 0.0030 - binary_accuracy: 0.9989\n",
      "Epoch 5/5\n",
      "792/792 [==============================] - 2s 2ms/step - loss: 0.0016 - binary_accuracy: 0.9994\n",
      "67/67 [==============================] - 0s 2ms/step - loss: 0.0031 - binary_accuracy: 0.9986\n",
      "2.4.0\n",
      " Processing - momemtum  changes 0.4\n",
      "Model: \"sequential_44\"\n",
      "_________________________________________________________________\n",
      "Layer (type)                 Output Shape              Param #   \n",
      "=================================================================\n",
      "dense_176 (Dense)            (None, 16)                12560     \n",
      "_________________________________________________________________\n",
      "dense_177 (Dense)            (None, 12)                204       \n",
      "_________________________________________________________________\n",
      "dense_178 (Dense)            (None, 8)                 104       \n",
      "_________________________________________________________________\n",
      "dense_179 (Dense)            (None, 1)                 9         \n",
      "=================================================================\n",
      "Total params: 12,877\n",
      "Trainable params: 12,877\n",
      "Non-trainable params: 0\n",
      "_________________________________________________________________\n",
      "model <tensorflow.python.keras.engine.sequential.Sequential object at 0x7f08fdda52b0>\n",
      "Epoch 1/5\n",
      "792/792 [==============================] - 2s 2ms/step - loss: 0.0465 - binary_accuracy: 0.9758\n",
      "Epoch 2/5\n",
      "792/792 [==============================] - 2s 2ms/step - loss: 0.0068 - binary_accuracy: 0.9983\n",
      "Epoch 3/5\n",
      "792/792 [==============================] - 2s 2ms/step - loss: 0.0024 - binary_accuracy: 0.9994\n",
      "Epoch 4/5\n",
      "792/792 [==============================] - 2s 2ms/step - loss: 0.0027 - binary_accuracy: 0.9993\n",
      "Epoch 5/5\n",
      "792/792 [==============================] - 2s 2ms/step - loss: 0.0037 - binary_accuracy: 0.9989\n",
      "67/67 [==============================] - 0s 2ms/step - loss: 0.0054 - binary_accuracy: 0.9981\n",
      "2.4.0\n",
      " Processing - momemtum  changes 0.9\n",
      "Model: \"sequential_45\"\n",
      "_________________________________________________________________\n",
      "Layer (type)                 Output Shape              Param #   \n",
      "=================================================================\n",
      "dense_180 (Dense)            (None, 16)                12560     \n",
      "_________________________________________________________________\n",
      "dense_181 (Dense)            (None, 12)                204       \n",
      "_________________________________________________________________\n",
      "dense_182 (Dense)            (None, 8)                 104       \n",
      "_________________________________________________________________\n",
      "dense_183 (Dense)            (None, 1)                 9         \n",
      "=================================================================\n",
      "Total params: 12,877\n",
      "Trainable params: 12,877\n",
      "Non-trainable params: 0\n",
      "_________________________________________________________________\n",
      "model <tensorflow.python.keras.engine.sequential.Sequential object at 0x7f0852c22d68>\n",
      "Epoch 1/5\n",
      "792/792 [==============================] - 2s 2ms/step - loss: 0.0374 - binary_accuracy: 0.9848\n",
      "Epoch 2/5\n",
      "792/792 [==============================] - 2s 2ms/step - loss: 0.0120 - binary_accuracy: 0.9968\n",
      "Epoch 3/5\n",
      "792/792 [==============================] - 2s 2ms/step - loss: 0.0110 - binary_accuracy: 0.9969\n",
      "Epoch 4/5\n",
      "792/792 [==============================] - 2s 2ms/step - loss: 0.0054 - binary_accuracy: 0.9981\n",
      "Epoch 5/5\n",
      "792/792 [==============================] - 2s 2ms/step - loss: 0.0042 - binary_accuracy: 0.9986\n",
      "67/67 [==============================] - 0s 2ms/step - loss: 0.0072 - binary_accuracy: 0.9986\n"
     ]
    }
   ],
   "source": [
    "from keras import backend as K\n",
    "\n",
    "\n",
    "momentum_list = [ 0.0, 0.2, 0.4, 0.9]\n",
    "\n",
    "for momentum in  momentum_list:\n",
    "\n",
    "  import numpy as np\n",
    "  from tensorflow import keras\n",
    "  print (keras.__version__)\n",
    "  from keras.datasets import mnist\n",
    "  (x_train, y_train), (x_test, y_test) = mnist.load_data()\n",
    "  x_train_new, y_train_new = x_train[(y_train==0) | (y_train==1)], y_train[(y_train==0) | (y_train==1)]\n",
    "  x_train_final = x_train_new.reshape((-1, 784))\n",
    "  x_test_new, y_test_new = x_test[(y_test==0) | (y_test==1)], y_test[(y_test==0) | (y_test==1)]\n",
    "  x_test_final = x_test_new.reshape((-1, 784))\n",
    "  x_train_final = x_train_final / 255\n",
    "  x_test_final = x_test_final / 255\n",
    "\n",
    "\n",
    "  from tensorflow.keras.models import Sequential\n",
    "  from tensorflow.keras.layers import Dense, Activation, Dropout\n",
    "  from tensorflow.keras.utils import to_categorical, plot_model\n",
    "  from tensorflow.keras.datasets import mnist\n",
    "\n",
    "  from tensorflow import keras\n",
    "\n",
    "  print(f\" Processing - momemtum  changes { momentum }\")\n",
    "  model = Sequential()\n",
    "  node = 16 # No. of nodes - fixed\n",
    "  \n",
    "  model.add(Dense(node , input_shape=(784,), activation=fn))\n",
    "  model.add(Dense(node -4, activation=fn))\n",
    "  model.add(Dense(node - 8, activation=fn))\n",
    "  model.add(Dense( 1, activation=fn))\n",
    "\n",
    "\n",
    "\n",
    "  model.summary()\n",
    "  plot_model(model, to_file='mlp-mnist.png', show_shapes=True)\n",
    "\n",
    "  \n",
    "\n",
    "\n",
    "  print (f'model {model}')\n",
    "\n",
    "  l_r = 1\n",
    "  opt=keras.optimizers.SGD(lr=l_r, momentum=momentum)\n",
    "  #optimizer.momentum.set_value(0.04) \n",
    "\n",
    "  #K.set_value(model.optimizer.learning_rate, l_r)\n",
    "\n",
    "\n",
    "  #opt = keras.optimizers.Adam(momentum=0.9)\n",
    "  #model.compile(..., optimizer=opt)\n",
    "  \n",
    "\n",
    "  model.compile(optimizer=opt, loss='binary_crossentropy', metrics=['binary_accuracy'])\n",
    "  model.fit(\n",
    "    x=x_train_final,\n",
    "    y=y_train_new,\n",
    "    shuffle=True,\n",
    "    epochs=5,\n",
    "    batch_size=16\n",
    "  )\n",
    "  eval = model.evaluate(x=x_test_final, y=y_test_new)\n",
    "  plot_model(model, to_file='mlp-mnist.png', show_shapes=True)"
   ]
  },
  {
   "cell_type": "code",
   "execution_count": 7,
   "metadata": {
    "colab": {
     "base_uri": "https://localhost:8080/",
     "height": 0
    },
    "id": "iah4lOMqKomc",
    "outputId": "a96632a1-5593-4b72-e90f-d940c8e021d4"
   },
   "outputs": [
    {
     "name": "stdout",
     "output_type": "stream",
     "text": [
      "2.4.0\n",
      " Processing - early stopping  changes min\n",
      "Model: \"sequential_8\"\n",
      "_________________________________________________________________\n",
      "Layer (type)                 Output Shape              Param #   \n",
      "=================================================================\n",
      "dense_32 (Dense)             (None, 16)                12560     \n",
      "_________________________________________________________________\n",
      "dense_33 (Dense)             (None, 12)                204       \n",
      "_________________________________________________________________\n",
      "dense_34 (Dense)             (None, 8)                 104       \n",
      "_________________________________________________________________\n",
      "dense_35 (Dense)             (None, 1)                 9         \n",
      "=================================================================\n",
      "Total params: 12,877\n",
      "Trainable params: 12,877\n",
      "Non-trainable params: 0\n",
      "_________________________________________________________________\n",
      "model <tensorflow.python.keras.engine.sequential.Sequential object at 0x7f284e291ac8>\n",
      "Epoch 1/100\n",
      "278/278 [==============================] - 1s 3ms/step - loss: 0.0620 - accuracy: 0.9756 - val_loss: 0.0048 - val_accuracy: 0.9987\n",
      "Epoch 2/100\n",
      "278/278 [==============================] - 1s 3ms/step - loss: 0.0099 - accuracy: 0.9973 - val_loss: 0.0035 - val_accuracy: 0.9989\n",
      "Epoch 3/100\n",
      "278/278 [==============================] - 1s 3ms/step - loss: 0.0055 - accuracy: 0.9982 - val_loss: 0.0033 - val_accuracy: 0.9995\n",
      "Epoch 4/100\n",
      "278/278 [==============================] - 1s 3ms/step - loss: 0.0062 - accuracy: 0.9982 - val_loss: 0.0128 - val_accuracy: 0.9955\n",
      " No of epochs ran 4\n",
      "67/67 [==============================] - 0s 2ms/step - loss: 0.0106 - accuracy: 0.9976\n",
      "2.4.0\n",
      " Processing - early stopping  changes max\n",
      "Model: \"sequential_9\"\n",
      "_________________________________________________________________\n",
      "Layer (type)                 Output Shape              Param #   \n",
      "=================================================================\n",
      "dense_36 (Dense)             (None, 16)                12560     \n",
      "_________________________________________________________________\n",
      "dense_37 (Dense)             (None, 12)                204       \n",
      "_________________________________________________________________\n",
      "dense_38 (Dense)             (None, 8)                 104       \n",
      "_________________________________________________________________\n",
      "dense_39 (Dense)             (None, 1)                 9         \n",
      "=================================================================\n",
      "Total params: 12,877\n",
      "Trainable params: 12,877\n",
      "Non-trainable params: 0\n",
      "_________________________________________________________________\n",
      "model <tensorflow.python.keras.engine.sequential.Sequential object at 0x7f284e0d60b8>\n",
      "Epoch 1/100\n",
      "278/278 [==============================] - 1s 3ms/step - loss: 0.0568 - accuracy: 0.9748 - val_loss: 0.0048 - val_accuracy: 0.9987\n",
      "Epoch 2/100\n",
      "278/278 [==============================] - 1s 3ms/step - loss: 0.0074 - accuracy: 0.9984 - val_loss: 0.0045 - val_accuracy: 0.9992\n",
      "Epoch 3/100\n",
      "278/278 [==============================] - 1s 3ms/step - loss: 0.0044 - accuracy: 0.9990 - val_loss: 0.0029 - val_accuracy: 0.9995\n",
      "Epoch 4/100\n",
      "278/278 [==============================] - 1s 3ms/step - loss: 0.0066 - accuracy: 0.9984 - val_loss: 0.0029 - val_accuracy: 0.9995\n",
      " No of epochs ran 4\n",
      "67/67 [==============================] - 0s 2ms/step - loss: 0.0025 - accuracy: 0.9991\n",
      "2.4.0\n",
      " Processing - early stopping  changes auto\n",
      "Model: \"sequential_10\"\n",
      "_________________________________________________________________\n",
      "Layer (type)                 Output Shape              Param #   \n",
      "=================================================================\n",
      "dense_40 (Dense)             (None, 16)                12560     \n",
      "_________________________________________________________________\n",
      "dense_41 (Dense)             (None, 12)                204       \n",
      "_________________________________________________________________\n",
      "dense_42 (Dense)             (None, 8)                 104       \n",
      "_________________________________________________________________\n",
      "dense_43 (Dense)             (None, 1)                 9         \n",
      "=================================================================\n",
      "Total params: 12,877\n",
      "Trainable params: 12,877\n",
      "Non-trainable params: 0\n",
      "_________________________________________________________________\n",
      "model <tensorflow.python.keras.engine.sequential.Sequential object at 0x7f2842742e10>\n",
      "Epoch 1/100\n",
      "278/278 [==============================] - 1s 3ms/step - loss: 0.0683 - accuracy: 0.9649 - val_loss: 0.0044 - val_accuracy: 0.9984\n",
      "Epoch 2/100\n",
      "278/278 [==============================] - 1s 3ms/step - loss: 0.0113 - accuracy: 0.9966 - val_loss: 0.0040 - val_accuracy: 0.9987\n",
      "Epoch 3/100\n",
      "278/278 [==============================] - 1s 3ms/step - loss: 0.0052 - accuracy: 0.9984 - val_loss: 0.0025 - val_accuracy: 0.9997\n",
      "Epoch 4/100\n",
      "278/278 [==============================] - 1s 3ms/step - loss: 0.0047 - accuracy: 0.9992 - val_loss: 0.0035 - val_accuracy: 0.9992\n",
      "Epoch 5/100\n",
      "278/278 [==============================] - 1s 3ms/step - loss: 0.0044 - accuracy: 0.9985 - val_loss: 0.0028 - val_accuracy: 0.9997\n",
      " No of epochs ran 5\n",
      "67/67 [==============================] - 0s 2ms/step - loss: 0.0046 - accuracy: 0.9986\n"
     ]
    }
   ],
   "source": [
    "\n",
    "early_stopping_list = [ 'min','max','auto']\n",
    "\n",
    "for e_s in  early_stopping_list:\n",
    "\n",
    "  import numpy as np\n",
    "  from tensorflow import keras\n",
    "  print (keras.__version__)\n",
    "  from keras.datasets import mnist\n",
    "  (x_train, y_train), (x_test, y_test) = mnist.load_data()\n",
    "  x_train_new, y_train_new = x_train[(y_train==0) | (y_train==1)], y_train[(y_train==0) | (y_train==1)]\n",
    "  x_train_final = x_train_new.reshape((-1, 784))\n",
    "  x_test_new, y_test_new = x_test[(y_test==0) | (y_test==1)], y_test[(y_test==0) | (y_test==1)]\n",
    "  x_test_final = x_test_new.reshape((-1, 784))\n",
    "  x_train_final = x_train_final / 255\n",
    "  x_test_final = x_test_final / 255\n",
    "\n",
    "\n",
    "  from tensorflow.keras.models import Sequential\n",
    "  from tensorflow.keras.layers import Dense, Activation, Dropout\n",
    "  from tensorflow.keras.utils import to_categorical, plot_model\n",
    "  from tensorflow.keras.datasets import mnist\n",
    "\n",
    "  from tensorflow import keras as k\n",
    "\n",
    "  \n",
    "\n",
    "  print(f\" Processing - early stopping  changes { e_s }\")\n",
    "  model = Sequential()\n",
    "  node = 16 # No. of nodes - fixed\n",
    "  fn ='sigmoid'\n",
    "  \n",
    "  model.add(Dense(node , input_shape=(784,), activation=fn))\n",
    "  model.add(Dense(node -4, activation=fn))\n",
    "  model.add(Dense(node - 8, activation=fn))\n",
    "  model.add(Dense( 1, activation=fn))\n",
    "\n",
    "\n",
    "\n",
    "  model.summary()\n",
    "  plot_model(model, to_file='mlp-mnist.png', show_shapes=True)\n",
    "\n",
    "\n",
    "  print (f'model {model}')\n",
    "\n",
    "\n",
    "  callback = k.callbacks.EarlyStopping(\n",
    "  #monitor='binary_accuracy', min_delta=0.0001,\n",
    "  monitor='accuracy', min_delta=0.0001,\n",
    "  \n",
    "  patience=1)\n",
    "\n",
    "  l_r = 1\n",
    "  momentum=0.9\n",
    "  opt=keras.optimizers.SGD(lr=l_r, momentum=momentum)\n",
    "  #optimizer.momentum.set_value(0.04) \n",
    "\n",
    "  #K.set_value(model.optimizer.learning_rate, l_r)\n",
    "\n",
    "\n",
    "  #opt = keras.optimizers.Adam(momentum=0.9)\n",
    "  #model.compile(..., optimizer=opt)\n",
    "  \n",
    "  #model.compile(optimizer=opt, loss='binary_crossentropy', metrics=['binary_accuracy'])\n",
    "\n",
    "  model.compile(optimizer=opt, loss='binary_crossentropy', metrics=['accuracy'])\n",
    "\n",
    " \n",
    "  '''\n",
    "  history = model.fit(\n",
    "            x=x_train_final,\n",
    "            y=y_train_new,\n",
    "            shuffle=True,\n",
    "            epochs=10, batch_size=1, callbacks=[callback],verbose=0)\n",
    "  '''\n",
    "  \n",
    "\n",
    "  #from keras.callbacks import EarlyStopping \n",
    "  #early_stopping_monitor = EarlyStopping(patience=2) \n",
    "  history = model.fit(x=x_train_final, y=y_train_new, validation_split=0.3, epochs=100, callbacks=[callback]) \n",
    "\n",
    "  l = len(history.history['loss'])\n",
    "  print(f' No of epochs ran {l}')  # Only 4 epochs are run.  \n",
    "\n",
    "\n",
    "  eval = model.evaluate(x=x_test_final, y=y_test_new)\n",
    "  plot_model(model, to_file='mlp-mnist.png', show_shapes=True)"
   ]
  },
  {
   "cell_type": "code",
   "execution_count": null,
   "metadata": {
    "id": "rs2Fjr2KKqfm"
   },
   "outputs": [],
   "source": []
  },
  {
   "cell_type": "code",
   "execution_count": null,
   "metadata": {
    "id": "sH_NdZzSwW4p"
   },
   "outputs": [],
   "source": []
  },
  {
   "cell_type": "code",
   "execution_count": null,
   "metadata": {
    "id": "YILYYZV1wW8F"
   },
   "outputs": [],
   "source": []
  },
  {
   "cell_type": "code",
   "execution_count": null,
   "metadata": {
    "id": "qDj94LElKhp7"
   },
   "outputs": [],
   "source": [
    "\n",
    "\n"
   ]
  }
 ],
 "metadata": {
  "accelerator": "GPU",
  "colab": {
   "collapsed_sections": [],
   "name": "mlp-mnist",
   "provenance": []
  },
  "kernelspec": {
   "display_name": "Python 3",
   "language": "python",
   "name": "python3"
  },
  "language_info": {
   "codemirror_mode": {
    "name": "ipython",
    "version": 3
   },
   "file_extension": ".py",
   "mimetype": "text/x-python",
   "name": "python",
   "nbconvert_exporter": "python",
   "pygments_lexer": "ipython3",
   "version": "3.8.5"
  }
 },
 "nbformat": 4,
 "nbformat_minor": 1
}
